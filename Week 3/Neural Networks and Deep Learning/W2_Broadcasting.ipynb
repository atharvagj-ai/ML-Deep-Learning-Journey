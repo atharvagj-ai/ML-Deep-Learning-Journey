{
  "nbformat": 4,
  "nbformat_minor": 0,
  "metadata": {
    "colab": {
      "name": "W2_Broadcasting.ipynb",
      "provenance": []
    },
    "kernelspec": {
      "name": "python3",
      "display_name": "Python 3"
    }
  },
  "cells": [
    {
      "cell_type": "code",
      "metadata": {
        "id": "T-8dLwUpBdHF",
        "colab_type": "code",
        "colab": {
          "base_uri": "https://localhost:8080/",
          "height": 72
        },
        "outputId": "dfe28d3c-ea96-459e-a5ae-7a1faec0cac9"
      },
      "source": [
        "import numpy as np\n",
        "A = np.array([[56.0, 0.0, 4.4, 68.0],\n",
        "         [1.2, 104.2, 52.2, 8.0],\n",
        "         [1.8, 135.0, 99.0, 0.9],\n",
        "         ])\n",
        "print((A))"
      ],
      "execution_count": 5,
      "outputs": [
        {
          "output_type": "stream",
          "text": [
            "[[ 56.    0.    4.4  68. ]\n",
            " [  1.2 104.2  52.2   8. ]\n",
            " [  1.8 135.   99.    0.9]]\n"
          ],
          "name": "stdout"
        }
      ]
    },
    {
      "cell_type": "code",
      "metadata": {
        "id": "-wXWcEFPCTaK",
        "colab_type": "code",
        "colab": {
          "base_uri": "https://localhost:8080/",
          "height": 35
        },
        "outputId": "a0758d5f-e6cf-440b-ae04-1fc3bdd116d8"
      },
      "source": [
        "calories  = A.sum(axis=0)\n",
        "print(calories)"
      ],
      "execution_count": 7,
      "outputs": [
        {
          "output_type": "stream",
          "text": [
            "[ 59.  239.2 155.6  76.9]\n"
          ],
          "name": "stdout"
        }
      ]
    },
    {
      "cell_type": "code",
      "metadata": {
        "id": "jnD6A5KvDUAx",
        "colab_type": "code",
        "colab": {
          "base_uri": "https://localhost:8080/",
          "height": 72
        },
        "outputId": "469f321f-0948-42af-ddb5-17c657a5db68"
      },
      "source": [
        "percentage_calories = 100*(A/calories.reshape(1,4))\n",
        "\n",
        "print(percentage_calories)"
      ],
      "execution_count": 10,
      "outputs": [
        {
          "output_type": "stream",
          "text": [
            "[[94.91525424  0.          2.8277635  88.42652796]\n",
            " [ 2.03389831 43.56187291 33.54755784 10.40312094]\n",
            " [ 3.05084746 56.43812709 63.62467866  1.17035111]]\n"
          ],
          "name": "stdout"
        }
      ]
    },
    {
      "cell_type": "code",
      "metadata": {
        "id": "gxh307MHDjBx",
        "colab_type": "code",
        "colab": {}
      },
      "source": [
        ""
      ],
      "execution_count": null,
      "outputs": []
    }
  ]
}